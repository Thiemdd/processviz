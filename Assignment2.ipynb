{
 "cells": [
  {
   "cell_type": "markdown",
   "metadata": {},
   "source": [
    "#### Nguyễn Tiến Dũng\n",
    "\n",
    "KSTN - Toán Tin - K62\n",
    "\n",
    "Đại học Bách khoa Hà Nội\n",
    "\n",
    "20170062"
   ]
  },
  {
   "cell_type": "markdown",
   "metadata": {},
   "source": [
    "##### Câu 1:\n",
    "\n",
    "**a.** Không gian trạng thái $$\\mathbb{I}_Y = \\{-1, 1\\}$$\n",
    "\n",
    "Ta có "
   ]
  },
  {
   "cell_type": "markdown",
   "metadata": {},
   "source": [
    "##### Câu 2:"
   ]
  },
  {
   "cell_type": "markdown",
   "metadata": {},
   "source": [
    "##### Câu 3:\n",
    "\n",
    "**a.**\n",
    "\n",
    "Đồ thị của xích Markov như sau:\n",
    "\n",
    "![a](./assignment_img/2-3-a.eps)\n",
    "\n",
    "Từ đó ta thấy\n",
    "\n",
    "- Lớp liên thông: $\\{1, 2\\}, \\{4\\}$\n",
    "- Xích Markov không tối giản do không có trạng thái nào đến được `2`\n",
    "\n",
    "**b.** \n",
    "\n",
    "Đồ thị của xích Markov như sau:\n",
    "\n",
    "![b](./assignment_img/2-3-b.eps)\n",
    "\n",
    "Từ đó thấy: \n",
    "\n",
    "- Các lớp liên thông: $\\{1\\}, \\{2\\}, \\{3,4\\}$\n",
    "- Không tối giản do `0` không liên thông với trạng thái nào"
   ]
  },
  {
   "cell_type": "markdown",
   "metadata": {},
   "source": [
    "##### Câu 4:\n",
    "\n",
    "*Ý tưởng*\n",
    "\n",
    "Chương trình sử dụng `BFS` để tìm đường đi giữa 2 đỉnh trong một đồ thị, tức là nếu tồn tại đường đi trên đồ thị từ đỉnh `source` đến `target` thì trạng thái `source` $\\rightarrow$ `target`\n",
    "\n",
    "*Data structure*\n",
    "\n",
    "Ta sử dụng `adjacency list` để biểu diễn đồ thị, do đó cần chuyển từ ma trận xác suất chuyển thành `adjacency list`.\n",
    "\n",
    "Không cần quan tâm đến giá trị các ô trong ma trận, chỉ cần khác 0 là có đường đi\n",
    "\n",
    "```python\n",
    "def convert_to_adjacency(state, P):\n",
    "    adjagecy_vector = {i:[] for i in state}\n",
    "    for i in range(len(P)):\n",
    "        for j in range(len(P)):\n",
    "            if P[i][j] != 0:\n",
    "                adjagecy_vector[state[i]].append(state[j])\n",
    "    return adjagecy_vector\n",
    "```\n",
    "\n",
    "*Thuật toán*\n",
    "\n",
    "Sử dụng `BFS`:\n",
    "\n",
    "```python\n",
    "def is_connected(state, P, source, target):\n",
    "    vector = convert_to_adjacency(state, P)\n",
    "    visit_status = {i: False for i in state}\n",
    "    queue = []\n",
    "    queue.append(source)\n",
    "    while queue != []:\n",
    "        current_state = queue[0]\n",
    "        queue.pop(0)\n",
    "        visit_status[current_state] = True\n",
    "        for s in vector[current_state]:\n",
    "            if visit_status[s] == False:\n",
    "                queue.append(s)\n",
    "        if target in queue:\n",
    "            return True\n",
    "    return False\n",
    "```"
   ]
  },
  {
   "cell_type": "code",
   "execution_count": 1,
   "metadata": {},
   "outputs": [],
   "source": [
    "import processviz as pvz\n",
    "import numpy as np\n",
    "\n",
    "G = pvz.MarkovChain()\n",
    "G.from_file()"
   ]
  },
  {
   "cell_type": "markdown",
   "metadata": {},
   "source": [
    "Kiểm tra trạng thái `A` có đến được trạng thái `B` hay không \n",
    "\n",
    "```python\n",
    "self.is_connected(source, target)\n",
    "```\n",
    "\n",
    "Ví dụ, đối với xích Markov `G`, để kiểm tra trạng thái `i` có thể đến được trạng thái `j` hay không, ta làm như sau:\n",
    "\n",
    "```python\n",
    "G.is_connected(i, j)\n",
    "```"
   ]
  },
  {
   "cell_type": "code",
   "execution_count": 2,
   "metadata": {},
   "outputs": [
    {
     "name": "stdout",
     "output_type": "stream",
     "text": [
      "Rich -> Rich :  True\n",
      "Rich -> Neutral :  True\n",
      "Rich -> Poor :  True\n",
      "Rich -> Loser :  True\n",
      "Neutral -> Rich :  True\n",
      "Neutral -> Neutral :  True\n",
      "Neutral -> Poor :  True\n",
      "Neutral -> Loser :  True\n",
      "Poor -> Rich :  True\n",
      "Poor -> Neutral :  True\n",
      "Poor -> Poor :  True\n",
      "Poor -> Loser :  True\n",
      "Loser -> Rich :  True\n",
      "Loser -> Neutral :  True\n",
      "Loser -> Poor :  True\n",
      "Loser -> Loser :  True\n"
     ]
    }
   ],
   "source": [
    "for i in G.state:\n",
    "    for j in G.state:\n",
    "        print(i, '->', j, ': ', G.is_connected(i, j))"
   ]
  },
  {
   "cell_type": "markdown",
   "metadata": {},
   "source": [
    "##### Câu 5:\n",
    "\n",
    "Ma trận xác suất chuyển $T$ được gọi là ma trận xác suất chuyển chính quy (ergodic) nếu tồn tại $n$ sao cho $T^n$ có tất cả các phần tử đều khác 0. Xích Markov được biểu diễn bởi $T$ được gọi là xích Markov chính quy.\n",
    "\n",
    "Xét xích `Markov` $(X_n)_{n\\ge0}$ có ma trận xác suất chuyển $P$.\n",
    "\n",
    "##### Các kiến thức bổ sung:\n",
    "\n",
    "**Định nghĩa 1:** *Trạng thái $i$ được gọi là `recurrent` nếu $\\sum_{n = 1}^{\\infty}p_{ii}^{(n)} = \\infty$*\n",
    "\n",
    "**Định nghĩa 2:** *Trạng thái $i$ có `period` $d > 1$ nếu $d$ là số lớn nhất thỏa mãn $p_{ii}^{(n)} > 0$ với mọi $n: d|n$ và $p_{ii}^{(n)} = 0$ trong các trường hợp còn lại $\\rightarrow$ `periodic`\n",
    "\n",
    "**Định nghĩa 3:** *Trạng thái $i$ không có chu kì được gọi là `aperiodic`*\n",
    "\n",
    "**Bổ đề:** *Giả sử $i$ là `aperiodic`, ta chứng minh tồn tại $n_i$ để $\\forall n > n_i, p_{ii}^{(n)} > 0$.*\n",
    "\n",
    "*Chứng minh*\n",
    "\n",
    "Hiển nhiên dễ thấy $i$ là `recurrent`.\n",
    "\n",
    "Xét $T = \\{n|p_{ii}^{(n)}>0\\}$. Do $i$ là `aperiodic` nên dễ thấy $d = GCD(n, n \\in T) = 1$. Lấy $n_1, n_2 \\in T$ sao cho $GCD(n_1, n_2) = 1$.\n",
    "\n",
    "Khi đó, theo định lí [Sylvestor - Chicken McNugget theorem](https://artofproblemsolving.com/wiki/index.php/Chicken_McNugget_Theorem), ta có: \n",
    "\\begin{equation}\n",
    "\\forall n > (n_1-1)(n_2-1) \\\\\n",
    "\\Rightarrow p_{ii}^{(n)} > 0\n",
    "\\end{equation}\n",
    "\n",
    "Ta có điều cần chứng minh.\n",
    "\n",
    "###### Chứng minh\n",
    "\n",
    "Ta chứng minh nếu $(X_n)$ là `irreducible` và tồn tại một trạng thái là `aperiodic` thì xích $(X_n)$ chính quy.\n",
    "\n",
    "Thật vậy, giả sử $i$ là `aperiodic`. Ta chứng minh $\\forall j \\in I$, $j$ là `aperiodic`.\n",
    "\n",
    "Theo bổ đề trên, hiển nhiên tồn tại $n_1$ sao cho $p_{ii}^{n}>0, n>n_1$. Do $P$ là `irreducible` nên tồn tại $n_{ij}, n_{ji}$ sao cho $p_{ij}^{n_{ij}}>0, p_{ji}^{n_{ji}}>0$.\n",
    "\n",
    "Có:\n",
    "$$\n",
    "p_{jj}^{n_{ij} + n + n_{ji}} \\ge p_{ij}^{n_{ij}}p_{ii}^{n}p_{ji}^{n_{ji}} > 0\n",
    "$$\n",
    "\n",
    "Lại có:\n",
    "$$\n",
    "p_{jj}^{n_{ij} + n+1 + n_{ji}} \\ge p_{ij}^{n_{ij}}p_{ii}^{n+1}p_{ji}^{n_{ji}} > 0\n",
    "$$\n",
    "\n",
    "Vậy chứng tỏ $j$ là `aperiodic`.\n",
    "\n",
    "Tiếp theo ta chứng minh tồn tại $N$ để $p_{ij}^N>0$.\n",
    "\n",
    "Đặt $q = \\underset{n_i}{max}\\{p_{ii}^{(n)}>0, n>n_i\\}$. Khi đó, ta chứng minh tồn tại $t$ sao cho $p_{ij}^{(t)} > 0$.\n",
    "\n",
    "Có:\n",
    "$$\n",
    "\\left\\{\\begin{matrix}\n",
    "p_{ii}^{(t)} > 0\\\\ \n",
    "p_{ij}^{(t)} \\ge p_{ij}^{n_{ij}}p_{jj}^{t - n_{ij}} > 0\n",
    "\\end{matrix}\\right.\n",
    "$$\n",
    "\n",
    "Để điều trên xảy ra với mọi $i, j$, ta chọn $t = \\underset{i, j}{max}\\{n_{ij} + q\\}$\n",
    "\n",
    "Vậy ta có $(X_n)_{n \\ge 0}$ là chính quy."
   ]
  },
  {
   "cell_type": "markdown",
   "metadata": {},
   "source": [
    "---\n",
    "\n",
    "**Remark:** Em mới chỉ tìm được một số điều kiện để chứng minh $P$ là chính quy\n",
    "\n",
    "Có điều kiện cần $P$ chính quy $\\rightarrow$ phương trình $\\pi P = \\pi$ có nghiệm duy nhất, thì cũng suy ra được nếu $\\pi(P - I) = 0$ không có nghiệm duy nhất thì $P$ không chính quy, nhưng mà em cũng không chắc được đó là tất cả các trường hợp cần tìm để $P$ chính quy, ví dụ như nếu rank(P - I) = len(P) nhưng mà không có trạng thái nào là `aperiodic`, hoặc sau khi luỹ thừa lên vài lần nó bắt đầu có hẳn 1 cột bằng 0 (transient).\n",
    "\n",
    "Tạm thời trong bài này em sẽ kiểm tra 2 điều kiện trước, bao gồm `rank(P - I) = len(P)` và `P` là `irreducible + có một self-loop`\n",
    "\n",
    "---"
   ]
  },
  {
   "cell_type": "markdown",
   "metadata": {},
   "source": [
    "**Kiểm tra điều kiện:**\n",
    "\n",
    "1. Self-loop\n",
    "2. Rank(P - I) == len(P)"
   ]
  },
  {
   "cell_type": "code",
   "execution_count": 3,
   "metadata": {},
   "outputs": [
    {
     "data": {
      "image/png": "[encoded data removed]",
      "text/plain": [
       "<Figure size 432x288 with 1 Axes>"
      ]
     },
     "metadata": {
      "needs_background": "light"
     },
     "output_type": "display_data"
    },
    {
     "data": {
      "text/plain": [
       "(array([-1.00000000e+00, -1.27935856e-16,  1.00000000e+00,  0.00000000e+00]),\n",
       " array([[ 5.00000000e-01, -9.70142500e-01,  5.00000000e-01,\n",
       "          0.00000000e+00],\n",
       "        [-5.00000000e-01,  6.79610343e-17,  5.00000000e-01,\n",
       "         -2.42535625e-01],\n",
       "        [ 5.00000000e-01,  2.42535625e-01,  5.00000000e-01,\n",
       "          0.00000000e+00],\n",
       "        [-5.00000000e-01,  4.53821728e-17,  5.00000000e-01,\n",
       "          9.70142500e-01]]))"
      ]
     },
     "execution_count": 3,
     "metadata": {},
     "output_type": "execute_result"
    }
   ],
   "source": []
  },
  {
   "cell_type": "code",
   "execution_count": 4,
   "metadata": {},
   "outputs": [
    {
     "data": {
      "text/plain": [
       "3"
      ]
     },
     "execution_count": 4,
     "metadata": {},
     "output_type": "execute_result"
    }
   ],
   "source": [
    "P = np.subtract(G.P, np.identity(len(G.P)))\n",
    "np.linalg.matrix_rank(P)"
   ]
  },
  {
   "cell_type": "code",
   "execution_count": null,
   "metadata": {},
   "outputs": [],
   "source": []
  }
 ],
 "metadata": {
  "kernelspec": {
   "display_name": "Python 3.7.5 64-bit",
   "language": "python",
   "name": "python37564bit9c6ef5c60eed4b8ca23f96caa58fb4e1"
  },
  "language_info": {
   "codemirror_mode": {
    "name": "ipython",
    "version": 3
   },
   "file_extension": ".py",
   "mimetype": "text/x-python",
   "name": "python",
   "nbconvert_exporter": "python",
   "pygments_lexer": "ipython3",
   "version": "3.7.5"
  }
 },
 "nbformat": 4,
 "nbformat_minor": 2
}
