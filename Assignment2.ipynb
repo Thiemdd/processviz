{
 "cells": [
  {
   "cell_type": "markdown",
   "metadata": {},
   "source": [
    "#### Nguyễn Tiến Dũng\n",
    "\n",
    "KSTN - Toán Tin - K62\n",
    "\n",
    "Đại học Bách khoa Hà Nội\n",
    "\n",
    "20170062"
   ]
  },
  {
   "cell_type": "markdown",
   "metadata": {},
   "source": [
    "##### Câu 1:\n",
    "\n",
    "**a.** Không gian trạng thái $$\\mathbb{I}_Y = \\{-1, 1\\}$$\n",
    "\n",
    "Xét $I_i \\in \\{\\{0\\}, \\{1;2\\}\\}$\n",
    "\n",
    "Ta có: \n",
    "\n",
    "$$\n",
    "P(Y_{n+1} = i_{n+1}|Y_{n} = i_n, Y_{n-1} = i_{n-1},...,Y_0 = i_0)  \n",
    "= P(X_{n+1} \\in \\{I_{n+1}\\}|X_n \\in \\{I_n\\},...,X_0 \\in \\{I_0\\})\n",
    "= \\sum P(X_{n+1} = j_{n+1}|X_{n} = j_n, X_{n-1} = j_{n-1},...,X_0 = j_0)\n",
    "= \\sum P(X_{n+1} = j_{n+1}|X_{n} = j_n)\n",
    "$$\n",
    "\n",
    "Mặt khác, ta có:\n",
    "\n",
    "$$\n",
    "P(Y_{n+1} = i_{n+1}|Y_{n} = i_n) = P(X_{n+1} \\in \\{I_{n+1}\\}|X_n \\in \\{I_n\\})\n",
    "= \\sum P(X_{n+1} = j_{n+1}|X_{n} = j_n)\n",
    "$$\n",
    "\n",
    "Từ đó chứng tỏ $(Y_n)$ là một xích Markov\n",
    "\n",
    "**b.** Ma trận xác suất chuyển.\n",
    "\n",
    "Ta có \n",
    "$$\n",
    "p_{-1, 1}^Y = P(X_n{n+1} = 1|X_n = 0) + P(X_{n+1} = 2|X_n = 0) = \\frac{4}{7}\n",
    "$$\n",
    "\n",
    "Tương tự như vậy, ma trận xác suất chuyển là \n",
    "$$\n",
    "P_Y = \\begin{bmatrix}\n",
    "\\frac{3}{7}&\\frac{4}{7}\\\\\n",
    "0.07x + \\frac{1}{11}(1-x) &  0.77x + \\frac{10}{11}(1-x)\n",
    "\\end{bmatrix}\n",
    "$$"
   ]
  },
  {
   "cell_type": "markdown",
   "metadata": {},
   "source": [
    "##### Câu 2:\n",
    "\n",
    "\\begin{equation}\n",
    "P = \\begin{bmatrix}\n",
    "-1.164 & -0.622 & 0.993 \\\\\n",
    "1.586 & 0.670 & 0.973 \\\\\n",
    "1&1&1\n",
    "\\end{bmatrix}\\begin{bmatrix}\n",
    "-0.181 & 0& 0 \\\\\n",
    "0 & -0.039 & 0 \\\\\n",
    "0&0&0.990\n",
    "\\end{bmatrix}\\begin{bmatrix}\n",
    "-0.184&0.983&-0.774\\\\\n",
    "-0.373&-1.313&1.648\\\\\n",
    "0.577&0.330&0.125\n",
    "\\end{bmatrix}\n",
    "\\end{equation}\n",
    "\n",
    "**a.** Từ đó dễ dàng xác định được $P^n$.\n",
    "\n",
    "**b.** Ta có vector phân phối tại thời điểm $n$ là:\n",
    "\n",
    "$$\n",
    "\\lambda_n = \\lambda*P^n = [-0.119x - 0.130y + 0.568z, 0.633x-0.457y+0.325z, -0.498x+0.382y+0.123z]\n",
    "$$\n",
    "\n",
    "với $x = (-0.181)^n, y = (-0.039)^n, z = (0.990^n)$"
   ]
  },
  {
   "cell_type": "markdown",
   "metadata": {},
   "source": [
    "##### Câu 3:\n",
    "\n",
    "**a.**\n",
    "\n",
    "Đồ thị của xích Markov như sau:\n",
    "\n",
    "![a](./assignment_img/2-3-a.eps)\n",
    "\n",
    "Từ đó ta thấy\n",
    "\n",
    "- Lớp liên thông: $\\{1, 2\\}, \\{4\\}$\n",
    "- Xích Markov không tối giản do không có trạng thái nào đến được `2`\n",
    "\n",
    "**b.** \n",
    "\n",
    "Đồ thị của xích Markov như sau:\n",
    "\n",
    "![b](./assignment_img/2-3-b.eps)\n",
    "\n",
    "Từ đó thấy: \n",
    "\n",
    "- Các lớp liên thông: $\\{1\\}, \\{2\\}, \\{3,4\\}$\n",
    "- Không tối giản do `0` không liên thông với trạng thái nào"
   ]
  },
  {
   "cell_type": "markdown",
   "metadata": {},
   "source": [
    "##### Câu 4:\n",
    "\n",
    "*Ý tưởng*\n",
    "\n",
    "Chương trình sử dụng `BFS` để tìm đường đi giữa 2 đỉnh trong một đồ thị, tức là nếu tồn tại đường đi trên đồ thị từ đỉnh `source` đến `target` thì trạng thái `source` $\\rightarrow$ `target`\n",
    "\n",
    "*Data structure*\n",
    "\n",
    "Ta sử dụng `adjacency list` để biểu diễn đồ thị, do đó cần chuyển từ ma trận xác suất chuyển thành `adjacency list`.\n",
    "\n",
    "Không cần quan tâm đến giá trị các ô trong ma trận, chỉ cần khác 0 là có đường đi\n",
    "\n",
    "```python\n",
    "def convert_to_adjacency(state, P):\n",
    "    adjagecy_vector = {i:[] for i in state}\n",
    "    for i in range(len(P)):\n",
    "        for j in range(len(P)):\n",
    "            if P[i][j] != 0:\n",
    "                adjagecy_vector[state[i]].append(state[j])\n",
    "    return adjagecy_vector\n",
    "```\n",
    "\n",
    "*Thuật toán*\n",
    "\n",
    "Sử dụng `BFS`:\n",
    "\n",
    "```python\n",
    "def is_connected(state, P, source, target):\n",
    "    vector = convert_to_adjacency(state, P)\n",
    "    visit_status = {i: False for i in state}\n",
    "    queue = []\n",
    "    queue.append(source)\n",
    "    while queue != []:\n",
    "        current_state = queue[0]\n",
    "        queue.pop(0)\n",
    "        visit_status[current_state] = True\n",
    "        for s in vector[current_state]:\n",
    "            if visit_status[s] == False:\n",
    "                queue.append(s)\n",
    "        if target in queue:\n",
    "            return True\n",
    "    return False\n",
    "```"
   ]
  },
  {
   "cell_type": "code",
   "execution_count": 1,
   "metadata": {},
   "outputs": [],
   "source": [
    "import processviz as pvz\n",
    "import numpy as np\n",
    "\n",
    "G = pvz.MarkovChain()\n",
    "G.from_file()"
   ]
  },
  {
   "cell_type": "markdown",
   "metadata": {},
   "source": [
    "Kiểm tra trạng thái `A` có đến được trạng thái `B` hay không \n",
    "\n",
    "```python\n",
    "self.is_connected(source, target)\n",
    "```\n",
    "\n",
    "Ví dụ, đối với xích Markov `G`, để kiểm tra trạng thái `i` có thể đến được trạng thái `j` hay không, ta làm như sau:\n",
    "\n",
    "```python\n",
    "G.is_connected(i, j)\n",
    "```"
   ]
  },
  {
   "cell_type": "code",
   "execution_count": 3,
   "metadata": {},
   "outputs": [
    {
     "name": "stdout",
     "output_type": "stream",
     "text": [
      "Rich -> Rich :  True\n",
      "Rich -> Neutral :  True\n",
      "Rich -> Poor :  True\n",
      "Rich -> Loser :  True\n",
      "Neutral -> Rich :  True\n",
      "Neutral -> Neutral :  True\n",
      "Neutral -> Poor :  True\n",
      "Neutral -> Loser :  True\n",
      "Poor -> Rich :  True\n",
      "Poor -> Neutral :  True\n",
      "Poor -> Poor :  True\n",
      "Poor -> Loser :  True\n",
      "Loser -> Rich :  True\n",
      "Loser -> Neutral :  True\n",
      "Loser -> Poor :  True\n",
      "Loser -> Loser :  True\n"
     ]
    }
   ],
   "source": [
    "for i in G.state:\n",
    "    for j in G.state:\n",
    "        print(i, '->', j, ': ', G.is_connected(i, j))"
   ]
  },
  {
   "cell_type": "markdown",
   "metadata": {},
   "source": [
    "##### Câu 5:\n",
    "\n",
    "Ma trận xác suất chuyển $T$ được gọi là ma trận xác suất chuyển chính quy (ergodic) nếu tồn tại $n$ sao cho $T^n$ có tất cả các phần tử đều khác 0. Xích Markov được biểu diễn bởi $T$ được gọi là xích Markov chính quy.\n",
    "\n",
    "Xét xích `Markov` $(X_n)_{n\\ge0}$ có ma trận xác suất chuyển $P$.\n",
    "\n",
    "##### Các kiến thức bổ sung:\n",
    "\n",
    "**Định nghĩa 1:** *Trạng thái $i$ được gọi là `recurrent` nếu $\\sum_{n = 1}^{\\infty}p_{ii}^{(n)} = \\infty$*\n",
    "\n",
    "**Định nghĩa 2:** *Trạng thái $i$ có `period` $d > 1$ nếu $d$ là số lớn nhất thỏa mãn $p_{ii}^{(n)} > 0$ với mọi $n: d|n$ và $p_{ii}^{(n)} = 0$ trong các trường hợp còn lại $\\rightarrow$ `periodic`\n",
    "\n",
    "**Định nghĩa 3:** *Trạng thái $i$ không có chu kì được gọi là `aperiodic`*\n",
    "\n",
    "**Định lí:** Xích `Markov` hữu hạn là tối giản thì các trạng thái là `recurrent`.\n",
    "\n",
    "*Chứng minh*\n",
    "\n",
    "Giả sử tồn tại trạng thái $i$ là `transient`. Khi đó tồn tại $n^*$ là số tự nhiên lớn nhất sao cho $p_{ii}^{n^*} > 0$. Ta chứng minh tồn tại số lớn hơn thoả mãn tính chất này.\n",
    "\n",
    "Thật vậy, xét $p_{ii}^n$. Do $P$ là `irreducible`, ta đặt $n_{ij}: p_{ij}^{n_{ij}} > 0$. Ta có:\n",
    "\n",
    "$$\n",
    "p_{ij}^{n} \\ge p_{ii_1}^{m_1}p_{i_1i_2}^{m_2}...p_{i_ni}^{m_{n+1}}, n = \\sum_{k =1}^{n+1}m_{k}\n",
    "$$\n",
    "\n",
    "Khi đó, với mỗi $i_k \\rightarrow i_{k+1}$, ta có thể lấy đoạn đường đi qua các đỉnh con $i_{k1}, i_{k2},..,i_{kn}, i_{k+1}$, mỗi đoạn này là tồn tại do xích là `irreducible`.\n",
    "\n",
    "Quá trình này tiếp tục cho đến khi $n > n^*$, điều này trái với giả thiết ban đầu.\n",
    "\n",
    "Điều vô lí này chứng tỏ các trạng thái của $P$ là `recurrent`\n",
    "\n",
    "**Bổ đề:** *Giả sử $i$ là `aperiodic`, ta chứng minh tồn tại $n_i$ để $\\forall n > n_i, p_{ii}^{(n)} > 0$.*\n",
    "\n",
    "*Chứng minh*\n",
    "\n",
    "Hiển nhiên dễ thấy $i$ là `recurrent`.\n",
    "\n",
    "Xét $T = \\{n|p_{ii}^{(n)}>0\\}$. Do $i$ là `aperiodic` nên dễ thấy $d = GCD(n, n \\in T) = 1$. Lấy $n_1, n_2 \\in T$ sao cho $GCD(n_1, n_2) = 1$.\n",
    "\n",
    "Khi đó, theo định lí [Sylvestor - Chicken McNugget theorem](https://artofproblemsolving.com/wiki/index.php/Chicken_McNugget_Theorem), ta có: \n",
    "\\begin{equation}\n",
    "\\forall n > (n_1-1)(n_2-1) \\\\\n",
    "\\Rightarrow p_{ii}^{(n)} > 0\n",
    "\\end{equation}\n",
    "\n",
    "Ta có điều cần chứng minh.\n",
    "\n",
    "###### Chứng minh\n",
    "\n",
    "Ta chứng minh nếu $(X_n)$ là `irreducible` và tồn tại một trạng thái là `aperiodic` thì xích $(X_n)$ chính quy.\n",
    "\n",
    "Thật vậy, giả sử $i$ là `aperiodic`. Ta chứng minh $\\forall j \\in I$, $j$ là `aperiodic`.\n",
    "\n",
    "Theo bổ đề trên, hiển nhiên tồn tại $n_1$ sao cho $p_{ii}^{n}>0, n>n_1$. Do $P$ là `irreducible` nên tồn tại $n_{ij}, n_{ji}$ sao cho $p_{ij}^{n_{ij}}>0, p_{ji}^{n_{ji}}>0$.\n",
    "\n",
    "Có:\n",
    "$$\n",
    "p_{jj}^{n_{ij} + n + n_{ji}} \\ge p_{ij}^{n_{ij}}p_{ii}^{n}p_{ji}^{n_{ji}} > 0\n",
    "$$\n",
    "\n",
    "Lại có:\n",
    "$$\n",
    "p_{jj}^{n_{ij} + n+1 + n_{ji}} \\ge p_{ij}^{n_{ij}}p_{ii}^{n+1}p_{ji}^{n_{ji}} > 0\n",
    "$$\n",
    "\n",
    "Vậy chứng tỏ $j$ là `aperiodic`.\n",
    "\n",
    "Tiếp theo ta chứng minh tồn tại $N$ để $p_{ij}^N>0$.\n",
    "\n",
    "Đặt $q = \\underset{n_i}{max}\\{p_{ii}^{(n)}>0, n>n_i\\}$. Khi đó, ta chứng minh tồn tại $t$ sao cho $p_{ij}^{(t)} > 0$.\n",
    "\n",
    "Có:\n",
    "$$\n",
    "\\left\\{\\begin{matrix}\n",
    "p_{ii}^{(t)} > 0\\\\ \n",
    "p_{ij}^{(t)} \\ge p_{ij}^{n_{ij}}p_{jj}^{t - n_{ij}} > 0\n",
    "\\end{matrix}\\right.\n",
    "$$\n",
    "\n",
    "Để điều trên xảy ra với mọi $i, j$, ta chọn $t = \\underset{i, j}{max}\\{n_{ij} + q\\}$\n",
    "\n",
    "Vậy ta có $(X_n)_{n \\ge 0}$ là chính quy."
   ]
  },
  {
   "cell_type": "markdown",
   "metadata": {},
   "source": [
    "---\n",
    "\n",
    "**Remark:** Em mới chỉ tìm được một số điều kiện để chứng minh $P$ là chính quy\n",
    "\n",
    "Có điều kiện cần $P$ chính quy $\\rightarrow$ phương trình $\\pi P = \\pi$ có nghiệm duy nhất, thì cũng suy ra được nếu $\\pi(P - I) = 0$ không có nghiệm duy nhất thì $P$ không chính quy, nhưng mà em cũng không chắc được đó là tất cả các trường hợp cần tìm để $P$ chính quy, ví dụ như nếu rank(P - I) = len(P) nhưng mà không có trạng thái nào là `aperiodic`, hoặc sau khi luỹ thừa lên vài lần nó bắt đầu có hẳn 1 cột bằng 0 (transient).\n",
    "\n",
    "Tạm thời trong bài này em sẽ kiểm tra 2 điều kiện trước, bao gồm `rank(P - I) = len(P)` và `P` là `irreducible + có một self-loop`\n",
    "\n",
    "---"
   ]
  },
  {
   "cell_type": "markdown",
   "metadata": {},
   "source": [
    "**Kiểm tra điều kiện:**\n",
    "\n",
    "1. Self-loop\n",
    "2. Rank(P - I) == len(P)"
   ]
  },
  {
   "cell_type": "code",
   "execution_count": 6,
   "metadata": {},
   "outputs": [
    {
     "data": {
      "text/plain": [
       "False"
      ]
     },
     "execution_count": 6,
     "metadata": {},
     "output_type": "execute_result"
    }
   ],
   "source": [
    "G.is_regular()"
   ]
  },
  {
   "cell_type": "markdown",
   "metadata": {},
   "source": [
    "*Đồ thị minh hoạ cho trường hợp xích Markov không chính quy*\n",
    "\n",
    "Đồ thị này có `period(i) = 2`, không thoả mãn tính `aperiodic`"
   ]
  },
  {
   "cell_type": "code",
   "execution_count": 5,
   "metadata": {},
   "outputs": [
    {
     "data": {
      "image/png": "[encoded data removed]",
      "text/plain": [
       "<Figure size 432x288 with 1 Axes>"
      ]
     },
     "metadata": {
      "needs_background": "light"
     },
     "output_type": "display_data"
    },
    {
     "data": {
      "text/plain": [
       "False"
      ]
     },
     "execution_count": 5,
     "metadata": {},
     "output_type": "execute_result"
    },
    {
     "data": {
      "image/png": "[encoded data removed]",
      "text/plain": [
       "<Figure size 432x288 with 1 Axes>"
      ]
     },
     "metadata": {
      "needs_background": "light"
     },
     "output_type": "display_data"
    }
   ],
   "source": [
    "G.generate_state_graph(10)\n",
    "G.generate_graph(4)\n",
    "G.is_regular()"
   ]
  },
  {
   "cell_type": "code",
   "execution_count": null,
   "metadata": {},
   "outputs": [],
   "source": []
  }
 ],
 "metadata": {
  "kernelspec": {
   "display_name": "Python 3.7.5 64-bit",
   "language": "python",
   "name": "python37564bit9c6ef5c60eed4b8ca23f96caa58fb4e1"
  },
  "language_info": {
   "codemirror_mode": {
    "name": "ipython",
    "version": 3
   },
   "file_extension": ".py",
   "mimetype": "text/x-python",
   "name": "python",
   "nbconvert_exporter": "python",
   "pygments_lexer": "ipython3",
   "version": "3.7.5"
  }
 },
 "nbformat": 4,
 "nbformat_minor": 2
}
